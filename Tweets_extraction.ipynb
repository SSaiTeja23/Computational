{
  "nbformat": 4,
  "nbformat_minor": 0,
  "metadata": {
    "colab": {
      "name": "Tweets_extraction.ipynb",
      "provenance": []
    },
    "kernelspec": {
      "name": "python3",
      "display_name": "Python 3"
    }
  },
  "cells": [
    {
      "cell_type": "code",
      "metadata": {
        "id": "AXSlj5DOu6v3",
        "colab_type": "code",
        "outputId": "a89c8348-d7b5-4e35-dffa-44ab7c82d043",
        "colab": {
          "base_uri": "https://localhost:8080/",
          "height": 107
        }
      },
      "source": [
        "pip install GetOldTweets3     "
      ],
      "execution_count": 61,
      "outputs": [
        {
          "output_type": "stream",
          "text": [
            "Requirement already satisfied: GetOldTweets3 in /usr/local/lib/python3.6/dist-packages (0.0.11)\n",
            "Requirement already satisfied: pyquery>=1.2.10 in /usr/local/lib/python3.6/dist-packages (from GetOldTweets3) (1.4.1)\n",
            "Requirement already satisfied: lxml>=3.5.0 in /usr/local/lib/python3.6/dist-packages (from GetOldTweets3) (4.2.6)\n",
            "Requirement already satisfied: cssselect>0.7.9 in /usr/local/lib/python3.6/dist-packages (from pyquery>=1.2.10->GetOldTweets3) (1.1.0)\n"
          ],
          "name": "stdout"
        }
      ]
    },
    {
      "cell_type": "code",
      "metadata": {
        "id": "2ybxibVfwtJo",
        "colab_type": "code",
        "outputId": "2bd444b7-60a0-4741-f5f5-fe4a009f52f0",
        "colab": {
          "base_uri": "https://localhost:8080/",
          "height": 388
        }
      },
      "source": [
        "pip install -r requirements.txt"
      ],
      "execution_count": 62,
      "outputs": [
        {
          "output_type": "stream",
          "text": [
            "Collecting lxml==3.5.0\n",
            "  Using cached https://files.pythonhosted.org/packages/8b/be/ed850baac891aca25c832fb8d7b9c0e7a5077a30e336d95ffc7d649aaa06/lxml-3.5.0.tar.gz\n",
            "Processing /root/.cache/pip/wheels/88/46/56/64827a3a40b94ce29e5d61ebc82deec2e2ee9695c55b0549ad/pyquery-1.2.10-cp36-none-any.whl\n",
            "Requirement already satisfied: cssselect>0.7.9 in /usr/local/lib/python3.6/dist-packages (from pyquery==1.2.10->-r requirements.txt (line 2)) (1.1.0)\n",
            "Building wheels for collected packages: lxml\n",
            "  Building wheel for lxml (setup.py) ... \u001b[?25lerror\n",
            "\u001b[31m  ERROR: Failed building wheel for lxml\u001b[0m\n",
            "\u001b[?25h  Running setup.py clean for lxml\n",
            "Failed to build lxml\n",
            "Installing collected packages: lxml, pyquery\n",
            "  Found existing installation: lxml 4.2.6\n",
            "    Uninstalling lxml-4.2.6:\n",
            "      Successfully uninstalled lxml-4.2.6\n",
            "    Running setup.py install for lxml ... \u001b[?25l\u001b[?25herror\n",
            "  Rolling back uninstall of lxml\n",
            "  Moving to /usr/local/lib/python3.6/dist-packages/lxml-4.2.6.dist-info/\n",
            "   from /usr/local/lib/python3.6/dist-packages/~xml-4.2.6.dist-info\n",
            "  Moving to /usr/local/lib/python3.6/dist-packages/lxml/\n",
            "   from /usr/local/lib/python3.6/dist-packages/~xml\n",
            "\u001b[31mERROR: Command errored out with exit status 1: /usr/bin/python3 -u -c 'import sys, setuptools, tokenize; sys.argv[0] = '\"'\"'/tmp/pip-install-2h8z89nt/lxml/setup.py'\"'\"'; __file__='\"'\"'/tmp/pip-install-2h8z89nt/lxml/setup.py'\"'\"';f=getattr(tokenize, '\"'\"'open'\"'\"', open)(__file__);code=f.read().replace('\"'\"'\\r\\n'\"'\"', '\"'\"'\\n'\"'\"');f.close();exec(compile(code, __file__, '\"'\"'exec'\"'\"'))' install --record /tmp/pip-record-d3pnhrcg/install-record.txt --single-version-externally-managed --compile Check the logs for full command output.\u001b[0m\n"
          ],
          "name": "stdout"
        }
      ]
    },
    {
      "cell_type": "code",
      "metadata": {
        "id": "yTxfSmHnNqy5",
        "colab_type": "code",
        "colab": {}
      },
      "source": [
        "def get_twitter_info():           #Function defining all the required fields \n",
        "    tweet_df[\"tweet_text\"] = tweet_df[\"got_criteria\"].apply(lambda x: x.text)\n",
        "    tweet_df[\"date\"] = tweet_df[\"got_criteria\"].apply(lambda x: x.date)\n",
        "    tweet_df[\"hashtags\"] = tweet_df[\"got_criteria\"].apply(lambda x: x.hashtags)\n",
        "    tweet_df[\"link\"] = tweet_df[\"got_criteria\"].apply(lambda x: x.permalink)"
      ],
      "execution_count": 0,
      "outputs": []
    },
    {
      "cell_type": "code",
      "metadata": {
        "id": "Ld4ZlsU9Nbwq",
        "colab_type": "code",
        "colab": {}
      },
      "source": [
        "#set search variables\n",
        "import pandas as pd\n",
        "import GetOldTweets3 as got\n",
        "keyword = \"#covid-19\"           #Keyword required for search criteria\n",
        "oldest_date = \"2020-04-19\"      #oldest date for extraction\n",
        "newest_date = \"2020-05-01\"      #Newest date for extraction\n",
        "locations =[\"Norwich\"]         #Location of the tweet to be extracted\n",
        "\n",
        "number_tweets =10000            #Number of tweets to be extracted\n",
        "\n",
        "#get old tweets\n",
        "tweetCriteria_list = []\n",
        "for location in locations:    \n",
        "  try:\n",
        "    tweetCriteria = got.manager.TweetCriteria().setQuerySearch(keyword).setSince(oldest_date).setUntil(newest_date).setNear(location).setMaxTweets(number_tweets)\n",
        "    tweetCriteria_list.append(tweetCriteria)\n",
        "  except:\n",
        "    continue   \n",
        "#create twitter info for each city\n",
        "tweet_dict = {}                   \n",
        "for criteria, location in zip(tweetCriteria_list, locations):\n",
        "    tweets = got.manager.TweetManager.getTweets(criteria)\n",
        "    tweet_dict[location] = tweets\n",
        "    \n",
        "#create df\n",
        "tweet_df = pd.DataFrame(dict([ (k,pd.Series(v)) for k,v in tweet_dict.items() ]))\n",
        "tweet_df['tweet_count'] = tweet_df.index\n",
        "tweet_df = pd.melt(tweet_df, id_vars=[\"tweet_count\"], var_name='City', value_name='got_criteria')\n",
        "tweet_df = tweet_df.dropna()\n",
        "\n",
        "#extract twitter information\n",
        "get_twitter_info()\n",
        "tweet_df = tweet_df.drop(\"got_criteria\", 1)\n",
        "tweet_df.head()\n",
        "\n",
        "#export the frame to a csv file\n",
        "tweet_df.to_csv(\"UK_8.csv\")"
      ],
      "execution_count": 0,
      "outputs": []
    },
    {
      "cell_type": "code",
      "metadata": {
        "id": "VmBu-8vywDCa",
        "colab_type": "code",
        "outputId": "49e5b18a-bbb4-442c-aad3-bbd488877116",
        "colab": {
          "base_uri": "https://localhost:8080/",
          "height": 1000
        }
      },
      "source": [
        "tweet_df"
      ],
      "execution_count": 77,
      "outputs": [
        {
          "output_type": "execute_result",
          "data": {
            "text/html": [
              "<div>\n",
              "<style scoped>\n",
              "    .dataframe tbody tr th:only-of-type {\n",
              "        vertical-align: middle;\n",
              "    }\n",
              "\n",
              "    .dataframe tbody tr th {\n",
              "        vertical-align: top;\n",
              "    }\n",
              "\n",
              "    .dataframe thead th {\n",
              "        text-align: right;\n",
              "    }\n",
              "</style>\n",
              "<table border=\"1\" class=\"dataframe\">\n",
              "  <thead>\n",
              "    <tr style=\"text-align: right;\">\n",
              "      <th></th>\n",
              "      <th>tweet_count</th>\n",
              "      <th>City</th>\n",
              "      <th>tweet_text</th>\n",
              "      <th>date</th>\n",
              "      <th>hashtags</th>\n",
              "      <th>link</th>\n",
              "    </tr>\n",
              "  </thead>\n",
              "  <tbody>\n",
              "    <tr>\n",
              "      <th>0</th>\n",
              "      <td>0</td>\n",
              "      <td>Norwich</td>\n",
              "      <td>The Office Cubicle is Back - Blame Covid-19 ht...</td>\n",
              "      <td>2020-04-30 22:24:35+00:00</td>\n",
              "      <td></td>\n",
              "      <td>https://twitter.com/Wensumblogger/status/12559...</td>\n",
              "    </tr>\n",
              "    <tr>\n",
              "      <th>1</th>\n",
              "      <td>1</td>\n",
              "      <td>Norwich</td>\n",
              "      <td>Trump there, claiming that the Covid-19 tests ...</td>\n",
              "      <td>2020-04-30 22:22:27+00:00</td>\n",
              "      <td></td>\n",
              "      <td>https://twitter.com/mrjameskinsley/status/1255...</td>\n",
              "    </tr>\n",
              "    <tr>\n",
              "      <th>2</th>\n",
              "      <td>2</td>\n",
              "      <td>Norwich</td>\n",
              "      <td>Well everyone. Hitler has finally been brought...</td>\n",
              "      <td>2020-04-30 22:16:40+00:00</td>\n",
              "      <td>#COVID_19</td>\n",
              "      <td>https://twitter.com/KillerKoalaz/status/125598...</td>\n",
              "    </tr>\n",
              "    <tr>\n",
              "      <th>3</th>\n",
              "      <td>3</td>\n",
              "      <td>Norwich</td>\n",
              "      <td>A fantastically sensible, balanced article fro...</td>\n",
              "      <td>2020-04-30 21:48:53+00:00</td>\n",
              "      <td></td>\n",
              "      <td>https://twitter.com/PatrickM46/status/12559774...</td>\n",
              "    </tr>\n",
              "    <tr>\n",
              "      <th>4</th>\n",
              "      <td>4</td>\n",
              "      <td>Norwich</td>\n",
              "      <td>Shocking! #Covid_19</td>\n",
              "      <td>2020-04-30 21:42:15+00:00</td>\n",
              "      <td>#Covid_19</td>\n",
              "      <td>https://twitter.com/Mines_a_pint/status/125597...</td>\n",
              "    </tr>\n",
              "    <tr>\n",
              "      <th>...</th>\n",
              "      <td>...</td>\n",
              "      <td>...</td>\n",
              "      <td>...</td>\n",
              "      <td>...</td>\n",
              "      <td>...</td>\n",
              "      <td>...</td>\n",
              "    </tr>\n",
              "    <tr>\n",
              "      <th>4235</th>\n",
              "      <td>103</td>\n",
              "      <td>Inverness</td>\n",
              "      <td>Have a new found liking for Nicola Sturgeon - ...</td>\n",
              "      <td>2020-04-20 20:07:41+00:00</td>\n",
              "      <td></td>\n",
              "      <td>https://twitter.com/xjeb_96/status/12523281008...</td>\n",
              "    </tr>\n",
              "    <tr>\n",
              "      <th>4236</th>\n",
              "      <td>104</td>\n",
              "      <td>Inverness</td>\n",
              "      <td>Amazes me to read only 9% of a poll think the ...</td>\n",
              "      <td>2020-04-20 17:45:29+00:00</td>\n",
              "      <td></td>\n",
              "      <td>https://twitter.com/JimBlack01/status/12522923...</td>\n",
              "    </tr>\n",
              "    <tr>\n",
              "      <th>4237</th>\n",
              "      <td>105</td>\n",
              "      <td>Inverness</td>\n",
              "      <td>#Respect. Princess Sofia of Sweden Just Became...</td>\n",
              "      <td>2020-04-20 16:25:48+00:00</td>\n",
              "      <td>#Respect</td>\n",
              "      <td>https://twitter.com/Liam_HPG/status/1252272264...</td>\n",
              "    </tr>\n",
              "    <tr>\n",
              "      <th>4238</th>\n",
              "      <td>106</td>\n",
              "      <td>Inverness</td>\n",
              "      <td>TB Day 35- Gym Closed - COVID-19 We are postin...</td>\n",
              "      <td>2020-04-20 08:15:39+00:00</td>\n",
              "      <td></td>\n",
              "      <td>https://twitter.com/HighlandBoxing/status/1252...</td>\n",
              "    </tr>\n",
              "    <tr>\n",
              "      <th>4239</th>\n",
              "      <td>107</td>\n",
              "      <td>Inverness</td>\n",
              "      <td>TB Day 34- Gym Closed - COVID-19 We are postin...</td>\n",
              "      <td>2020-04-19 09:43:25+00:00</td>\n",
              "      <td></td>\n",
              "      <td>https://twitter.com/HighlandBoxing/status/1251...</td>\n",
              "    </tr>\n",
              "  </tbody>\n",
              "</table>\n",
              "<p>2320 rows × 6 columns</p>\n",
              "</div>"
            ],
            "text/plain": [
              "      tweet_count  ...                                               link\n",
              "0               0  ...  https://twitter.com/Wensumblogger/status/12559...\n",
              "1               1  ...  https://twitter.com/mrjameskinsley/status/1255...\n",
              "2               2  ...  https://twitter.com/KillerKoalaz/status/125598...\n",
              "3               3  ...  https://twitter.com/PatrickM46/status/12559774...\n",
              "4               4  ...  https://twitter.com/Mines_a_pint/status/125597...\n",
              "...           ...  ...                                                ...\n",
              "4235          103  ...  https://twitter.com/xjeb_96/status/12523281008...\n",
              "4236          104  ...  https://twitter.com/JimBlack01/status/12522923...\n",
              "4237          105  ...  https://twitter.com/Liam_HPG/status/1252272264...\n",
              "4238          106  ...  https://twitter.com/HighlandBoxing/status/1252...\n",
              "4239          107  ...  https://twitter.com/HighlandBoxing/status/1251...\n",
              "\n",
              "[2320 rows x 6 columns]"
            ]
          },
          "metadata": {
            "tags": []
          },
          "execution_count": 77
        }
      ]
    },
    {
      "cell_type": "code",
      "metadata": {
        "id": "AKUEH_8NdWIU",
        "colab_type": "code",
        "colab": {}
      },
      "source": [
        ""
      ],
      "execution_count": 0,
      "outputs": []
    }
  ]
}